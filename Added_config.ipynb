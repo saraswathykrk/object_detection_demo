{
  "nbformat": 4,
  "nbformat_minor": 0,
  "metadata": {
    "colab": {
      "name": "Added_config.ipynb",
      "provenance": [],
      "authorship_tag": "ABX9TyMoTRH8gy5Lw7+V055JY5cb",
      "include_colab_link": true
    },
    "kernelspec": {
      "name": "python3",
      "display_name": "Python 3"
    }
  },
  "cells": [
    {
      "cell_type": "markdown",
      "metadata": {
        "id": "view-in-github",
        "colab_type": "text"
      },
      "source": [
        "<a href=\"https://colab.research.google.com/github/saraswathykrk/object_detection_demo/blob/master/Added_config.ipynb\" target=\"_parent\"><img src=\"https://colab.research.google.com/assets/colab-badge.svg\" alt=\"Open In Colab\"/></a>"
      ]
    },
    {
      "cell_type": "code",
      "metadata": {
        "colab": {
          "base_uri": "https://localhost:8080/"
        },
        "id": "toW5mW1kNNJP",
        "outputId": "a3ebb7fd-e9d5-4583-f9f0-cbe6eaaa9cce"
      },
      "source": [
        "!ssh-keygen -t rsa -b 4096"
      ],
      "execution_count": 1,
      "outputs": [
        {
          "output_type": "stream",
          "text": [
            "Generating public/private rsa key pair.\n",
            "Enter file in which to save the key (/root/.ssh/id_rsa): \n",
            "Created directory '/root/.ssh'.\n",
            "Enter passphrase (empty for no passphrase): \n",
            "Enter same passphrase again: \n",
            "Your identification has been saved in /root/.ssh/id_rsa.\n",
            "Your public key has been saved in /root/.ssh/id_rsa.pub.\n",
            "The key fingerprint is:\n",
            "SHA256:ab4nkTk3/Kt1FwruyrnUMBEWu1lcKhzF1Nb8wAlKpPk root@24327e2701ac\n",
            "The key's randomart image is:\n",
            "+---[RSA 4096]----+\n",
            "|         *Boo+o. |\n",
            "|        o+=ooo+o |\n",
            "|        o=.+.  ..|\n",
            "|         o*     .|\n",
            "|        SOE.   . |\n",
            "|       o= O . . .|\n",
            "|        .= =... .|\n",
            "|        +.+... . |\n",
            "|        .B+o..   |\n",
            "+----[SHA256]-----+\n"
          ],
          "name": "stdout"
        }
      ]
    },
    {
      "cell_type": "code",
      "metadata": {
        "colab": {
          "base_uri": "https://localhost:8080/"
        },
        "id": "k4cp8QezNe4Z",
        "outputId": "79e5c685-90c6-4cd6-8305-63c4c0a2de3a"
      },
      "source": [
        "!ssh-keyscan -t rsa github.com >> ~/.ssh/known_hosts"
      ],
      "execution_count": 2,
      "outputs": [
        {
          "output_type": "stream",
          "text": [
            "# github.com:22 SSH-2.0-babeld-b5f98373\n"
          ],
          "name": "stdout"
        }
      ]
    },
    {
      "cell_type": "code",
      "metadata": {
        "colab": {
          "base_uri": "https://localhost:8080/"
        },
        "id": "VGHUF_YsNkXW",
        "outputId": "a0b9c5ca-2352-42c3-e3ab-9caedb038007"
      },
      "source": [
        "!cat /root/.ssh/id_rsa.pub"
      ],
      "execution_count": 3,
      "outputs": [
        {
          "output_type": "stream",
          "text": [
            "ssh-rsa AAAAB3NzaC1yc2EAAAADAQABAAACAQDkqjsjQ+Mql1/apgW1RHLXZQ1/GWqOcmkFFLHO+Ogm8gBfWZV9nXTHNS7h3mW6EQPWnZaSObaf/xH1Kp0CgsL2GwSFATi/UFu+J8w+6I3/v3AXeXxrFOFwDM9ztpm4NKNbNkJo7nG5xBbikHbc6jFRhbGgygTxPK5J05NRNHs7lKARUG0EbtUL3SbJv7Wg/oES0Y4V3xcPO2YQEsoW2Sd98NEwD44cT23IyUBRI3Ass2laj88Va+pcxJThbzN/QmeDCC/igRm7MaLtgNoiWIvhe7c7Kxz8VKosz5DVKTL7zA2foiyZnYxqBgHYg1d6DV1OdNaLKkxnhkB+JlIcgdiKZAc1Jy3Jlg9zsU+GS3ujzAlZH4vh6Rx8QEWE9+FwVFWCRpLB2JXQUm5geTycfu8WMmMEvCFbgC1KPY8Srkx17R1klBQusHH6oPQ+2tWkMMxF6KbtKvI3qLxrWXkz8vcNJovDGh4cm1XQ3jaDfbcQIE/2zQevlLHThUzuLtZlwpGCGLm20v784NGr4u8yQTwEuRNvOTyhaoIxDhIwIDIylmnitCImF7aQPY7SONlTnRmDLEwIpXi3kgUHCbENdZC6o5QOSWcTcQUxivzM7OG8f4FJ+BYFnZmacIMZVSEMjK5jKxoBp6YtIy/2T23TDjDnjsA5Qt+kj81TChTVUzl/5w== root@24327e2701ac\n"
          ],
          "name": "stdout"
        }
      ]
    },
    {
      "cell_type": "code",
      "metadata": {
        "colab": {
          "base_uri": "https://localhost:8080/"
        },
        "id": "pP4CYZ3tNw2r",
        "outputId": "881ff841-517a-48da-8578-82f754e43211"
      },
      "source": [
        "!ssh -T git@github.com"
      ],
      "execution_count": 4,
      "outputs": [
        {
          "output_type": "stream",
          "text": [
            "Warning: Permanently added the RSA host key for IP address '140.82.113.4' to the list of known hosts.\r\n",
            "Hi saraswathykrk! You've successfully authenticated, but GitHub does not provide shell access.\n"
          ],
          "name": "stdout"
        }
      ]
    },
    {
      "cell_type": "code",
      "metadata": {
        "id": "O8yy3ZewN1tQ"
      },
      "source": [
        "!git config --global user.email \"saraswathykrk@gmail.com\""
      ],
      "execution_count": 5,
      "outputs": []
    },
    {
      "cell_type": "code",
      "metadata": {
        "id": "feW1zndVN4o4"
      },
      "source": [
        "!git config --global user.name \"saraswathykrk\""
      ],
      "execution_count": 6,
      "outputs": []
    },
    {
      "cell_type": "code",
      "metadata": {
        "colab": {
          "base_uri": "https://localhost:8080/"
        },
        "id": "KhgKMJ8sN-gP",
        "outputId": "89b6815c-62c4-4d52-ef18-2f319715af23"
      },
      "source": [
        "!git clone git@github.com:saraswathykrk/object_detection_demo"
      ],
      "execution_count": 7,
      "outputs": [
        {
          "output_type": "stream",
          "text": [
            "Cloning into 'object_detection_demo'...\n",
            "Warning: Permanently added the RSA host key for IP address '140.82.112.4' to the list of known hosts.\n",
            "remote: Enumerating objects: 172, done.\u001b[K\n",
            "remote: Counting objects: 100% (172/172), done.\u001b[K\n",
            "remote: Compressing objects: 100% (109/109), done.\u001b[K\n",
            "remote: Total 172 (delta 84), reused 143 (delta 60), pack-reused 0\u001b[K\n",
            "Receiving objects: 100% (172/172), 13.34 MiB | 29.75 MiB/s, done.\n",
            "Resolving deltas: 100% (84/84), done.\n"
          ],
          "name": "stdout"
        }
      ]
    }
  ]
}